{
  "cells": [
    {
      "cell_type": "markdown",
      "id": "korean-wednesday",
      "metadata": {
        "id": "korean-wednesday"
      },
      "source": [
        "# K-Nearest Neighbors\n",
        "You should build a machine learning pipeline using a k-nearest neighbor model. In particular, you should do the following:\n",
        "- Load the `mnist` dataset using [Pandas](https://pandas.pydata.org/docs/reference/api/pandas.read_csv.html). You can find this dataset in the datasets folder.\n",
        "- Split the dataset into training and test sets using [Scikit-Learn](https://scikit-learn.org/stable/modules/generated/sklearn.model_selection.train_test_split.html). \n",
        "- Train and test a k-nearest neighbor model using [Scikit-Learn](https://scikit-learn.org/stable/modules/generated/sklearn.neighbors.KNeighborsClassifier.html).\n",
        "- Check the documentation to identify the most important hyperparameters, attributes, and methods of the model. Use them in practice."
      ]
    },
    {
      "cell_type": "code",
      "execution_count": 7,
      "id": "infrared-copper",
      "metadata": {
        "id": "infrared-copper",
        "outputId": "4a96f33d-0f1f-4065-ef33-46e3a7ae18e1",
        "colab": {
          "base_uri": "https://localhost:8080/"
        }
      },
      "outputs": [
        {
          "output_type": "stream",
          "name": "stdout",
          "text": [
            "         id  class  pixel1  pixel2  pixel3  pixel4  pixel5  pixel6  pixel7  \\\n",
            "0     31953      5       0       0       0       0       0       0       0   \n",
            "1     34452      8       0       0       0       0       0       0       0   \n",
            "2     60897      5       0       0       0       0       0       0       0   \n",
            "3     36953      0       0       0       0       0       0       0       0   \n",
            "4      1981      3       0       0       0       0       0       0       0   \n",
            "...     ...    ...     ...     ...     ...     ...     ...     ...     ...   \n",
            "3995  25268      1       0       0       0       0       0       0       0   \n",
            "3996   6473      6       0       0       0       0       0       0       0   \n",
            "3997   5821      7       0       0       0       0       0       0       0   \n",
            "3998   1751      9       0       0       0       0       0       0       0   \n",
            "3999  56752      2       0       0       0       0       0       0       0   \n",
            "\n",
            "      pixel8  ...  pixel775  pixel776  pixel777  pixel778  pixel779  pixel780  \\\n",
            "0          0  ...         0         0         0         0         0         0   \n",
            "1          0  ...         0         0         0         0         0         0   \n",
            "2          0  ...         0         0         0         0         0         0   \n",
            "3          0  ...         0         0         0         0         0         0   \n",
            "4          0  ...         0         0         0         0         0         0   \n",
            "...      ...  ...       ...       ...       ...       ...       ...       ...   \n",
            "3995       0  ...         0         0         0         0         0         0   \n",
            "3996       0  ...         0         0         0         0         0         0   \n",
            "3997       0  ...         0         0         0         0         0         0   \n",
            "3998       0  ...         0         0         0         0         0         0   \n",
            "3999       0  ...         0         0         0         0         0         0   \n",
            "\n",
            "      pixel781  pixel782  pixel783  pixel784  \n",
            "0            0         0         0         0  \n",
            "1            0         0         0         0  \n",
            "2            0         0         0         0  \n",
            "3            0         0         0         0  \n",
            "4            0         0         0         0  \n",
            "...        ...       ...       ...       ...  \n",
            "3995         0         0         0         0  \n",
            "3996         0         0         0         0  \n",
            "3997         0         0         0         0  \n",
            "3998         0         0         0         0  \n",
            "3999         0         0         0         0  \n",
            "\n",
            "[4000 rows x 786 columns]\n"
          ]
        },
        {
          "output_type": "execute_result",
          "data": {
            "text/plain": [
              "(4000, 786)"
            ]
          },
          "metadata": {},
          "execution_count": 7
        }
      ],
      "source": [
        "import pandas as pd\n",
        "import numpy as np\n",
        "df = pd.read_csv(\"mnist.csv\")\n",
        "print(df)\n",
        "df.head()\n",
        "df.shape"
      ]
    },
    {
      "cell_type": "code",
      "source": [
        "import sklearn"
      ],
      "metadata": {
        "id": "ENTPtq-Z4rXK"
      },
      "id": "ENTPtq-Z4rXK",
      "execution_count": null,
      "outputs": []
    }
  ],
  "metadata": {
    "kernelspec": {
      "display_name": "Python 3",
      "language": "python",
      "name": "python3"
    },
    "language_info": {
      "codemirror_mode": {
        "name": "ipython",
        "version": 3
      },
      "file_extension": ".py",
      "mimetype": "text/x-python",
      "name": "python",
      "nbconvert_exporter": "python",
      "pygments_lexer": "ipython3",
      "version": "3.8.5"
    },
    "colab": {
      "provenance": []
    }
  },
  "nbformat": 4,
  "nbformat_minor": 5
}
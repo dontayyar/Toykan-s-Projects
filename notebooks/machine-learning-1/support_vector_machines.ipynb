{
  "cells": [
    {
      "cell_type": "markdown",
      "id": "korean-wednesday",
      "metadata": {
        "id": "korean-wednesday"
      },
      "source": [
        "# Support Vector Machines\n",
        "You should build a machine learning pipeline using a support vector machine model. In particular, you should do the following:\n",
        "- Load the `mnist` dataset using [Pandas](https://pandas.pydata.org/docs/reference/api/pandas.read_csv.html). You can find this dataset in the datasets folder.\n",
        "- Split the dataset into training and test sets using [Scikit-Learn](https://scikit-learn.org/stable/modules/generated/sklearn.model_selection.train_test_split.html). \n",
        "- Train and test a support vector machine model using [Scikit-Learn](https://scikit-learn.org/stable/modules/generated/sklearn.svm.SVC.html).\n",
        "- Check the documentation to identify the most important hyperparameters, attributes, and methods of the model. Use them in practice."
      ]
    },
    {
      "cell_type": "code",
      "execution_count": 43,
      "id": "infrared-copper",
      "metadata": {
        "colab": {
          "base_uri": "https://localhost:8080/"
        },
        "id": "infrared-copper",
        "outputId": "908d6bf1-271c-48e4-9eb8-368041f9c69d"
      },
      "outputs": [
        {
          "output_type": "stream",
          "name": "stdout",
          "text": [
            "         id  class  pixel1  pixel2  pixel3  pixel4  pixel5  pixel6  pixel7  \\\n",
            "0     31953      5       0       0       0       0       0       0       0   \n",
            "1     34452      8       0       0       0       0       0       0       0   \n",
            "2     60897      5       0       0       0       0       0       0       0   \n",
            "3     36953      0       0       0       0       0       0       0       0   \n",
            "4      1981      3       0       0       0       0       0       0       0   \n",
            "...     ...    ...     ...     ...     ...     ...     ...     ...     ...   \n",
            "3995  25268      1       0       0       0       0       0       0       0   \n",
            "3996   6473      6       0       0       0       0       0       0       0   \n",
            "3997   5821      7       0       0       0       0       0       0       0   \n",
            "3998   1751      9       0       0       0       0       0       0       0   \n",
            "3999  56752      2       0       0       0       0       0       0       0   \n",
            "\n",
            "      pixel8  ...  pixel775  pixel776  pixel777  pixel778  pixel779  pixel780  \\\n",
            "0          0  ...         0         0         0         0         0         0   \n",
            "1          0  ...         0         0         0         0         0         0   \n",
            "2          0  ...         0         0         0         0         0         0   \n",
            "3          0  ...         0         0         0         0         0         0   \n",
            "4          0  ...         0         0         0         0         0         0   \n",
            "...      ...  ...       ...       ...       ...       ...       ...       ...   \n",
            "3995       0  ...         0         0         0         0         0         0   \n",
            "3996       0  ...         0         0         0         0         0         0   \n",
            "3997       0  ...         0         0         0         0         0         0   \n",
            "3998       0  ...         0         0         0         0         0         0   \n",
            "3999       0  ...         0         0         0         0         0         0   \n",
            "\n",
            "      pixel781  pixel782  pixel783  pixel784  \n",
            "0            0         0         0         0  \n",
            "1            0         0         0         0  \n",
            "2            0         0         0         0  \n",
            "3            0         0         0         0  \n",
            "4            0         0         0         0  \n",
            "...        ...       ...       ...       ...  \n",
            "3995         0         0         0         0  \n",
            "3996         0         0         0         0  \n",
            "3997         0         0         0         0  \n",
            "3998         0         0         0         0  \n",
            "3999         0         0         0         0  \n",
            "\n",
            "[4000 rows x 786 columns]\n"
          ]
        },
        {
          "output_type": "execute_result",
          "data": {
            "text/plain": [
              "(4000, 786)"
            ]
          },
          "metadata": {},
          "execution_count": 43
        }
      ],
      "source": [
        "import pandas as pd \n",
        "df = pd.read_csv(\"mnist.csv\")\n",
        "print(df)\n",
        "df.head\n",
        "df.shape"
      ]
    },
    {
      "cell_type": "code",
      "source": [
        "X=df.drop(columns=\"class\",axis=1)\n",
        "y=df[\"class\"]"
      ],
      "metadata": {
        "id": "wKETNdCAR7Kb"
      },
      "id": "wKETNdCAR7Kb",
      "execution_count": 61,
      "outputs": []
    },
    {
      "cell_type": "code",
      "source": [
        "from sklearn.model_selection import train_test_split\n",
        "import numpy as np\n",
        "X_train, X_test,y_train,y_test = train_test_split(X,y ,\n",
        "                                   random_state=0, \n",
        "                                   test_size=0.2, \n",
        "                                   shuffle=True)\n",
        "\n",
        "print('X_train : ')\n",
        "print(X_train.head())\n",
        "print('')\n",
        "print('X_test : ')\n",
        "print(X_test.head())\n",
        "print('')\n",
        "print('y_train : ')\n",
        "print(y_train.head())\n",
        "print('')\n",
        "print('y_test : ')\n",
        "print(y_test.head())\n"
      ],
      "metadata": {
        "colab": {
          "base_uri": "https://localhost:8080/"
        },
        "id": "yTZaSd6rRRXx",
        "outputId": "0811b0df-7581-498a-cbc2-0cae8b46b7c0"
      },
      "id": "yTZaSd6rRRXx",
      "execution_count": 62,
      "outputs": [
        {
          "output_type": "stream",
          "name": "stdout",
          "text": [
            "X_train : \n",
            "         id  pixel1  pixel2  pixel3  pixel4  pixel5  pixel6  pixel7  pixel8  \\\n",
            "1161  28481       0       0       0       0       0       0       0       0   \n",
            "2355  27614       0       0       0       0       0       0       0       0   \n",
            "1831  52154       0       0       0       0       0       0       0       0   \n",
            "156   54120       0       0       0       0       0       0       0       0   \n",
            "195   32839       0       0       0       0       0       0       0       0   \n",
            "\n",
            "      pixel9  ...  pixel775  pixel776  pixel777  pixel778  pixel779  pixel780  \\\n",
            "1161       0  ...         0         0         0         0         0         0   \n",
            "2355       0  ...         0         0         0         0         0         0   \n",
            "1831       0  ...         0         0         0         0         0         0   \n",
            "156        0  ...         0         0         0         0         0         0   \n",
            "195        0  ...         0         0         0         0         0         0   \n",
            "\n",
            "      pixel781  pixel782  pixel783  pixel784  \n",
            "1161         0         0         0         0  \n",
            "2355         0         0         0         0  \n",
            "1831         0         0         0         0  \n",
            "156          0         0         0         0  \n",
            "195          0         0         0         0  \n",
            "\n",
            "[5 rows x 785 columns]\n",
            "\n",
            "X_test : \n",
            "         id  pixel1  pixel2  pixel3  pixel4  pixel5  pixel6  pixel7  pixel8  \\\n",
            "2230  33722       0       0       0       0       0       0       0       0   \n",
            "668   42164       0       0       0       0       0       0       0       0   \n",
            "3616  49113       0       0       0       0       0       0       0       0   \n",
            "2363  45104       0       0       0       0       0       0       0       0   \n",
            "142   58868       0       0       0       0       0       0       0       0   \n",
            "\n",
            "      pixel9  ...  pixel775  pixel776  pixel777  pixel778  pixel779  pixel780  \\\n",
            "2230       0  ...         0         0         0         0         0         0   \n",
            "668        0  ...         0         0         0         0         0         0   \n",
            "3616       0  ...         0         0         0         0         0         0   \n",
            "2363       0  ...         0         0         0         0         0         0   \n",
            "142        0  ...         0         0         0         0         0         0   \n",
            "\n",
            "      pixel781  pixel782  pixel783  pixel784  \n",
            "2230         0         0         0         0  \n",
            "668          0         0         0         0  \n",
            "3616         0         0         0         0  \n",
            "2363         0         0         0         0  \n",
            "142          0         0         0         0  \n",
            "\n",
            "[5 rows x 785 columns]\n",
            "\n",
            "y_train : \n",
            "1161    9\n",
            "2355    2\n",
            "1831    0\n",
            "156     8\n",
            "195     6\n",
            "Name: class, dtype: int64\n",
            "\n",
            "y_test : \n",
            "2230    3\n",
            "668     7\n",
            "3616    1\n",
            "2363    6\n",
            "142     2\n",
            "Name: class, dtype: int64\n"
          ]
        }
      ]
    },
    {
      "cell_type": "code",
      "source": [
        "from sklearn import svm\n",
        "X = [[0, 0], [1, 1]]\n",
        "y = [0, 1]\n",
        "clf = svm.SVC()\n",
        "clf.fit(X, y)\n",
        "clf.predict([[2., 2.]])\n"
      ],
      "metadata": {
        "colab": {
          "base_uri": "https://localhost:8080/"
        },
        "id": "CuC0PzsjSPV9",
        "outputId": "136b091f-46d1-49a3-c946-8ca35541f3e8"
      },
      "id": "CuC0PzsjSPV9",
      "execution_count": 63,
      "outputs": [
        {
          "output_type": "execute_result",
          "data": {
            "text/plain": [
              "array([1])"
            ]
          },
          "metadata": {},
          "execution_count": 63
        }
      ]
    },
    {
      "cell_type": "code",
      "source": [
        "clf.support_vectors_\n",
        "clf.support_\n",
        "clf.n_support_"
      ],
      "metadata": {
        "colab": {
          "base_uri": "https://localhost:8080/"
        },
        "id": "ob9mf-7XShj8",
        "outputId": "f65762f6-cf2d-45f7-a9d6-32aee152c328"
      },
      "id": "ob9mf-7XShj8",
      "execution_count": 64,
      "outputs": [
        {
          "output_type": "execute_result",
          "data": {
            "text/plain": [
              "array([1, 1], dtype=int32)"
            ]
          },
          "metadata": {},
          "execution_count": 64
        }
      ]
    },
    {
      "cell_type": "code",
      "source": [
        "X = [[0], [1], [2], [3]]\n",
        "Y = [0, 1, 2, 3]\n",
        "clf = svm.SVC(decision_function_shape='ovo')\n",
        "clf.fit(X, Y)"
      ],
      "metadata": {
        "colab": {
          "base_uri": "https://localhost:8080/"
        },
        "id": "dgElHKhgTlhX",
        "outputId": "0e6a286f-b7f3-438c-9b1c-b22798e9e6e2"
      },
      "id": "dgElHKhgTlhX",
      "execution_count": 65,
      "outputs": [
        {
          "output_type": "execute_result",
          "data": {
            "text/plain": [
              "SVC(decision_function_shape='ovo')"
            ]
          },
          "metadata": {},
          "execution_count": 65
        }
      ]
    },
    {
      "cell_type": "markdown",
      "source": [
        "#Regression fit in SVM"
      ],
      "metadata": {
        "id": "2X1acn03W9FI"
      },
      "id": "2X1acn03W9FI"
    },
    {
      "cell_type": "code",
      "source": [
        "from sklearn import svm\n",
        "X = [[0, 0], [2, 2]]\n",
        "y = [0.5, 2.5]\n",
        "regr = svm.SVR()\n",
        "regr.fit(X, y)\n",
        "regr.predict([[1, 1]])\n"
      ],
      "metadata": {
        "colab": {
          "base_uri": "https://localhost:8080/"
        },
        "id": "sLt-QBrIUFGT",
        "outputId": "b33dfd69-6b3f-46ae-acdc-601cfbbae220"
      },
      "id": "sLt-QBrIUFGT",
      "execution_count": 49,
      "outputs": [
        {
          "output_type": "execute_result",
          "data": {
            "text/plain": [
              "array([1.5])"
            ]
          },
          "metadata": {},
          "execution_count": 49
        }
      ]
    },
    {
      "cell_type": "code",
      "source": [
        "from sklearn.pipeline import make_pipeline\n",
        "from sklearn.preprocessing import StandardScaler\n",
        "from sklearn.svm import SVC\n",
        "\n",
        "clf = make_pipeline(StandardScaler(), SVC())"
      ],
      "metadata": {
        "id": "wfGjXOeqUqIP"
      },
      "id": "wfGjXOeqUqIP",
      "execution_count": 50,
      "outputs": []
    },
    {
      "cell_type": "markdown",
      "source": [
        "#Kernel Functions\n"
      ],
      "metadata": {
        "id": "iqQS3bgvVIel"
      },
      "id": "iqQS3bgvVIel"
    },
    {
      "cell_type": "code",
      "source": [
        "linear_svc = svm.SVC(kernel='linear')\n",
        "linear_svc.kernel\n",
        "rbf_svc = svm.SVC(kernel='rbf')\n",
        "rbf_svc.kernel\n"
      ],
      "metadata": {
        "colab": {
          "base_uri": "https://localhost:8080/",
          "height": 35
        },
        "id": "FFAyKRSLVC55",
        "outputId": "bbcffb2f-a0b3-422a-fcea-34177583600c"
      },
      "id": "FFAyKRSLVC55",
      "execution_count": 55,
      "outputs": [
        {
          "output_type": "execute_result",
          "data": {
            "text/plain": [
              "'rbf'"
            ],
            "application/vnd.google.colaboratory.intrinsic+json": {
              "type": "string"
            }
          },
          "metadata": {},
          "execution_count": 55
        }
      ]
    },
    {
      "cell_type": "markdown",
      "source": [
        "#Using Gram Matrix\n"
      ],
      "metadata": {
        "id": "PuRxxvUJVftG"
      },
      "id": "PuRxxvUJVftG"
    },
    {
      "cell_type": "code",
      "source": [
        "import numpy as np\n",
        "from sklearn.datasets import make_classification\n",
        "from sklearn.model_selection import train_test_split\n",
        "from sklearn import svm\n",
        "X, y = make_classification(n_samples=10, random_state=0)\n",
        "X_train , X_test , y_train, y_test = train_test_split(X, y, random_state=0)\n",
        "clf = svm.SVC(kernel='precomputed')\n",
        "# linear kernel computation\n",
        "gram_train = np.dot(X_train, X_train.T)\n",
        "clf.fit(gram_train, y_train)\n",
        "SVC(kernel='precomputed')\n",
        "# predict on training examples\n",
        "gram_test = np.dot(X_test, X_train.T)\n",
        "clf.predict(gram_test)\n"
      ],
      "metadata": {
        "colab": {
          "base_uri": "https://localhost:8080/"
        },
        "id": "B-j6EhurVTae",
        "outputId": "b92353b0-8431-4db0-ac19-703aef21c039"
      },
      "id": "B-j6EhurVTae",
      "execution_count": 56,
      "outputs": [
        {
          "output_type": "execute_result",
          "data": {
            "text/plain": [
              "array([0, 1, 0])"
            ]
          },
          "metadata": {},
          "execution_count": 56
        }
      ]
    }
  ],
  "metadata": {
    "kernelspec": {
      "display_name": "Python 3",
      "language": "python",
      "name": "python3"
    },
    "language_info": {
      "codemirror_mode": {
        "name": "ipython",
        "version": 3
      },
      "file_extension": ".py",
      "mimetype": "text/x-python",
      "name": "python",
      "nbconvert_exporter": "python",
      "pygments_lexer": "ipython3",
      "version": "3.8.5"
    },
    "colab": {
      "provenance": []
    }
  },
  "nbformat": 4,
  "nbformat_minor": 5
}
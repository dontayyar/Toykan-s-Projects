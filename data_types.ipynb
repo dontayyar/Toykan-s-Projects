{
  "cells": [
    {
      "cell_type": "markdown",
      "metadata": {
        "id": "view-in-github",
        "colab_type": "text"
      },
      "source": [
        "<a href=\"https://colab.research.google.com/github/dontayyar/Toykan-s-Projects/blob/main/data_types.ipynb\" target=\"_parent\"><img src=\"https://colab.research.google.com/assets/colab-badge.svg\" alt=\"Open In Colab\"/></a>"
      ]
    },
    {
      "cell_type": "markdown",
      "id": "novel-stream",
      "metadata": {
        "id": "novel-stream"
      },
      "source": [
        "# Data Types"
      ]
    },
    {
      "cell_type": "markdown",
      "id": "finite-albania",
      "metadata": {
        "id": "finite-albania"
      },
      "source": [
        "## Remove Vowels\n",
        "Write a Python program that takes a string, makes the character lowercase, removes its vowel characters (`\"a\"`, `\"e\"`, `\"i\"`, `\"o\"`, and `\"u\"`) and prints the result. For example, given the string `\"Hello\"`, the program should print `\"hll\"`."
      ]
    },
    {
      "cell_type": "code",
      "execution_count": null,
      "id": "human-century",
      "metadata": {
        "id": "human-century",
        "outputId": "c84f52c8-feb7-469c-b134-203652671dfa",
        "colab": {
          "base_uri": "https://localhost:8080/",
          "height": 35
        }
      },
      "outputs": [
        {
          "output_type": "execute_result",
          "data": {
            "text/plain": [
              "'hll'"
            ],
            "application/vnd.google.colaboratory.intrinsic+json": {
              "type": "string"
            }
          },
          "metadata": {},
          "execution_count": 30
        }
      ],
      "source": [
        "s_string = \"Hello\"\n",
        "a_string = s_string.replace(\"e\",\"\")  \n",
        "b_string = a_string.replace(\"o\",\"\")\n",
        "b_string.lower()\n",
        "\n"
      ]
    },
    {
      "cell_type": "markdown",
      "id": "formed-candy",
      "metadata": {
        "id": "formed-candy"
      },
      "source": [
        "## Reverse the Words\n",
        "Write a Python program that takes a string containing some words that are separeted with whitespace, reverses the words in the string, and prints the result. For example, given the string `\"hello how are you\"`, the program should print `\"you are how hello\"`. "
      ]
    },
    {
      "cell_type": "code",
      "execution_count": null,
      "id": "forward-berry",
      "metadata": {
        "id": "forward-berry",
        "outputId": "9b05bcab-19cf-41e9-8b7b-b3052dfaac04",
        "colab": {
          "base_uri": "https://localhost:8080/"
        }
      },
      "outputs": [
        {
          "output_type": "stream",
          "name": "stdout",
          "text": [
            "you are how hello\n"
          ]
        }
      ],
      "source": [
        "string = \"hello how are you\"\n",
        " \n",
        "# creating an empty stack\n",
        "stack = []\n",
        " \n",
        "# pushing words onto the stack\n",
        "for word in string.split():\n",
        "    stack.append(word)\n",
        " \n",
        "# creating an empty list to store the reversed words\n",
        "reversed_words = []\n",
        " \n",
        "# popping words off the stack and appending them to the list\n",
        "while stack:\n",
        "    reversed_words.append(stack.pop())\n",
        " \n",
        "# joining the reversed words with a space\n",
        "reversed_string = \" \".join(reversed_words)\n",
        " \n",
        "# printing the reversed string\n",
        "print(reversed_string)\n",
        "\n",
        "\n",
        "\n",
        "\n"
      ]
    },
    {
      "cell_type": "markdown",
      "id": "after-radius",
      "metadata": {
        "id": "after-radius"
      },
      "source": [
        "## Count Common Elements of 2 Lists\n",
        "Write a Python program that prints the number of common elements in two given lists. For example, given `[1, 2, 3]` and `[5, 1, 3]`, the program should print 2."
      ]
    },
    {
      "cell_type": "code",
      "execution_count": null,
      "id": "adverse-berkeley",
      "metadata": {
        "id": "adverse-berkeley",
        "outputId": "0a89d2e6-9515-464b-a6f6-a6b5f5319cb7",
        "colab": {
          "base_uri": "https://localhost:8080/"
        }
      },
      "outputs": [
        {
          "output_type": "stream",
          "name": "stdout",
          "text": [
            "[1, 2, 3]\n",
            "[5, 1, 3]\n",
            "{2, 5}\n"
          ]
        },
        {
          "output_type": "execute_result",
          "data": {
            "text/plain": [
              "{2}"
            ]
          },
          "metadata": {},
          "execution_count": 131
        }
      ],
      "source": [
        "s1 = [1, 2, 3] #set 1 \n",
        "print(s1) #printing our first set \n",
        "s2 = [5, 1, 3] # set 2 \n",
        "print(s2) #printing our second set \n",
        "s = set(s1).symmetric_difference(s2) #taking difference between set1 and set2 \n",
        "print(s) #printing the differenced sets \n",
        "set(s).difference(s2) #printing the 2\n",
        "\n",
        "\n",
        "\n",
        "\n",
        "\n",
        "\n",
        "\n"
      ]
    },
    {
      "cell_type": "markdown",
      "id": "secret-theme",
      "metadata": {
        "id": "secret-theme"
      },
      "source": [
        "## Print Sorted Unique Words\n",
        "Write a Python program that takes a string containing some words that are separeted with whitespace, removes all duplicate words, sorts the remaining words alphanumerically, and prints the result. For example, given the string `\"hello world and practice makes perfect and hello world again\"`, the program should print `\"again and hello makes perfect practice world\"`."
      ]
    },
    {
      "cell_type": "code",
      "execution_count": null,
      "id": "requested-rapid",
      "metadata": {
        "id": "requested-rapid",
        "outputId": "3a19e942-1e8a-458e-f2e9-30946e9d4611",
        "colab": {
          "base_uri": "https://localhost:8080/",
          "height": 184
        }
      },
      "outputs": [
        {
          "output_type": "error",
          "ename": "AttributeError",
          "evalue": "ignored",
          "traceback": [
            "\u001b[0;31m---------------------------------------------------------------------------\u001b[0m",
            "\u001b[0;31mAttributeError\u001b[0m                            Traceback (most recent call last)",
            "\u001b[0;32m<ipython-input-133-99f58180d73a>\u001b[0m in \u001b[0;36m<module>\u001b[0;34m\u001b[0m\n\u001b[1;32m      1\u001b[0m \u001b[0ms\u001b[0m \u001b[0;34m=\u001b[0m \u001b[0;34m\"hello world and practice makes perfect and hello world again\"\u001b[0m\u001b[0;34m\u001b[0m\u001b[0;34m\u001b[0m\u001b[0m\n\u001b[0;32m----> 2\u001b[0;31m \u001b[0ms\u001b[0m\u001b[0;34m.\u001b[0m\u001b[0mselectSort\u001b[0m\u001b[0;34m[\u001b[0m\u001b[0;34m\"again and hello\"\u001b[0m\u001b[0;34m]\u001b[0m\u001b[0;34m\u001b[0m\u001b[0;34m\u001b[0m\u001b[0m\n\u001b[0m",
            "\u001b[0;31mAttributeError\u001b[0m: 'str' object has no attribute 'selectSort'"
          ]
        }
      ],
      "source": [
        "s = \"hello world and practice makes perfect and hello world again\"\n"
      ]
    },
    {
      "cell_type": "markdown",
      "id": "satellite-residence",
      "metadata": {
        "id": "satellite-residence"
      },
      "source": [
        "## Convert a List of Integers to an Integer\n",
        "Write a Python program to convert a given list of integers to an integer. For example, given `[11, 2, 54]`, the program should assign 11254 into an integer variable."
      ]
    },
    {
      "cell_type": "code",
      "execution_count": null,
      "id": "excessive-spectrum",
      "metadata": {
        "id": "excessive-spectrum"
      },
      "outputs": [],
      "source": []
    }
  ],
  "metadata": {
    "kernelspec": {
      "display_name": "Python 3",
      "language": "python",
      "name": "python3"
    },
    "language_info": {
      "codemirror_mode": {
        "name": "ipython",
        "version": 3
      },
      "file_extension": ".py",
      "mimetype": "text/x-python",
      "name": "python",
      "nbconvert_exporter": "python",
      "pygments_lexer": "ipython3",
      "version": "3.8.5"
    },
    "colab": {
      "provenance": [],
      "include_colab_link": true
    }
  },
  "nbformat": 4,
  "nbformat_minor": 5
}